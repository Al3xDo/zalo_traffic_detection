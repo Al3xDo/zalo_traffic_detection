{
 "cells": [
  {
   "cell_type": "markdown",
   "metadata": {
    "id": "bUe4DTH3zWDX"
   },
   "source": [
    "# utils\n"
   ]
  },
  {
   "cell_type": "code",
   "execution_count": 1,
   "metadata": {
    "executionInfo": {
     "elapsed": 910,
     "status": "ok",
     "timestamp": 1604513955733,
     "user": {
      "displayName": "Nguyễn Sơn",
      "photoUrl": "",
      "userId": "07355162073497715480"
     },
     "user_tz": -420
    },
    "id": "QWaGTEJfzXTI"
   },
   "outputs": [],
   "source": [
    "import torch\n",
    "import numpy as np\n",
    "import json\n",
    "import os\n",
    "import cv2\n",
    "import random\n",
    "\n",
    "import matplotlib.pyplot as plt\n",
    "import seaborn as sns\n",
    "\n",
    "\n",
    "BLUE=(255, 0, 0)\n",
    "GREEN = (0, 255, 0)\n",
    "RED = (0, 0, 255)\n",
    "YELLOW = (0, 255, 255)\n",
    "PINK = (255, 0, 255)\n",
    "BLACK = (0, 0, 0)\n",
    "ORANGE = (0, 127, 255)\n",
    "CUSTOM = (255,170,170)\n",
    "COLOR_CLASS = {0: BLUE, 1:GREEN, 2:RED, 3:YELLOW, 4:PINK, 5:BLACK, 6:ORANGE, 7:CUSTOM}\n",
    "\n",
    "def bb_intersection_over_union(boxA, boxB):\n",
    "    xA = max(boxA[0], boxB[0])\n",
    "    yA = max(boxA[1], boxB[1])\n",
    "    xB = min(boxA[2], boxB[2])\n",
    "    yB = min(boxA[3], boxB[3])\n",
    "\n",
    "    interArea = max(0, xB - xA + 1) * max(0, yB - yA + 1)\n",
    "\n",
    "    boxAArea = (boxA[2] - boxA[0] + 1) * (boxA[3] - boxA[1] + 1)\n",
    "    boxBArea = (boxB[2] - boxB[0] + 1) * (boxB[3] - boxB[1] + 1)\n",
    "\n",
    "    iou = interArea / float(boxAArea + boxBArea - interArea)\n",
    "    return iou\n",
    "\n",
    "def cocoToAbsoluteBox(cocoBox):\n",
    "    #xywh -> xyxy\n",
    "    return [cocoBox[0], cocoBox[1], cocoBox[0]+cocoBox[2], cocoBox[1]+cocoBox[3]]"
   ]
  },
  {
   "cell_type": "markdown",
   "metadata": {
    "id": "xrMpM9ny17K4"
   },
   "source": [
    "# read json"
   ]
  },
  {
   "cell_type": "code",
   "execution_count": 2,
   "metadata": {
    "executionInfo": {
     "elapsed": 1068,
     "status": "ok",
     "timestamp": 1604511908691,
     "user": {
      "displayName": "Nguyễn Sơn",
      "photoUrl": "",
      "userId": "07355162073497715480"
     },
     "user_tz": -420
    },
    "id": "GLqsrH6BzXSE"
   },
   "outputs": [
    {
     "name": "stdout",
     "output_type": "stream",
     "text": [
      "dict_keys(['info', 'images', 'annotations', 'categories'])\n",
      "{'segmentation': [], 'area': 342, 'iscrowd': 0, 'image_id': 3, 'bbox': [880, 333, 19, 18], 'category_id': 2, 'id': 0}\n",
      "{'file_name': '3.png', 'height': 626, 'width': 1622, 'id': 3, 'street_id': 3}\n"
     ]
    }
   ],
   "source": [
    "with open('za_traffic_2020/traffic_train/train_traffic_sign_dataset.json') as json_file:\n",
    "    data = json.load(json_file)\n",
    "    \n",
    "print(data.keys())\n",
    "print(data['annotations'][0])\n",
    "print(data['images'][0])"
   ]
  },
  {
   "cell_type": "markdown",
   "metadata": {
    "id": "tE3eSomm2Y3C"
   },
   "source": [
    "# Group annotations by image_id"
   ]
  },
  {
   "cell_type": "code",
   "execution_count": 3,
   "metadata": {
    "colab": {
     "base_uri": "https://localhost:8080/"
    },
    "executionInfo": {
     "elapsed": 602,
     "status": "ok",
     "timestamp": 1604511909051,
     "user": {
      "displayName": "Nguyễn Sơn",
      "photoUrl": "",
      "userId": "07355162073497715480"
     },
     "user_tz": -420
    },
    "id": "4AT_2TLc1-4h",
    "outputId": "789428da-a377-4424-db89-9dd7fadf7eb0"
   },
   "outputs": [
    {
     "data": {
      "text/plain": [
       "[{'segmentation': [],\n",
       "  'area': 6889,\n",
       "  'iscrowd': 0,\n",
       "  'image_id': 5,\n",
       "  'bbox': [1069, 355, 83, 83],\n",
       "  'category_id': 3,\n",
       "  'id': 1},\n",
       " {'segmentation': [],\n",
       "  'area': 63,\n",
       "  'iscrowd': 0,\n",
       "  'image_id': 5,\n",
       "  'bbox': [768, 480, 9, 7],\n",
       "  'category_id': 2,\n",
       "  'id': 2}]"
      ]
     },
     "execution_count": 3,
     "metadata": {},
     "output_type": "execute_result"
    }
   ],
   "source": [
    "image_ids = [image['id'] for image in data['images']]\n",
    "data['annotations'][3]\n",
    "annos = {img_id:[] for img_id in image_ids}\n",
    "\n",
    "for anno in data['annotations']:\n",
    "    annos[anno[\"image_id\"]].append(anno)\n",
    "annos[5]"
   ]
  },
  {
   "cell_type": "code",
   "execution_count": 4,
   "metadata": {
    "executionInfo": {
     "elapsed": 859,
     "status": "ok",
     "timestamp": 1604511910852,
     "user": {
      "displayName": "Nguyễn Sơn",
      "photoUrl": "",
      "userId": "07355162073497715480"
     },
     "user_tz": -420
    },
    "id": "oPnOsEDD2GtZ"
   },
   "outputs": [],
   "source": [
    "\n",
    "class ImageAnnotation:\n",
    "    '''\n",
    "    class holding all information of image annotation\n",
    "    '''\n",
    "    def __init__(self, image_id, h, w, file_name, bboxes, split_bbox = []):\n",
    "        self.image_id = image_id\n",
    "        self.h = h\n",
    "        self.w = w\n",
    "        self.file_name = file_name\n",
    "        # bboxes include box and class_id, format [[x1, y1, w, h], class_id]\n",
    "        self.bboxes = bboxes\n",
    "\n",
    "    def getSize(self):\n",
    "        return self.w, self.h\n",
    "\n",
    "    def getBboxes(self):\n",
    "        '''\n",
    "        return bboxes with class_id\n",
    "        '''\n",
    "        return self.bboxes\n",
    "    \n",
    "    def getClassId(self):\n",
    "        return [box[1] for box in self.bboxes]\n",
    "    \n",
    "    def getBBoxesWithoutClassId(self):\n",
    "        '''\n",
    "        return all boxes without class_id\n",
    "        '''\n",
    "        return [box[0] for box in self.bboxes]\n",
    "        \n",
    "    def getFileName(self):\n",
    "        return self.file_name\n",
    "\n",
    "    def bboxesOnImage(self, root, save_dir):\n",
    "        '''\n",
    "        draw bboxes on images for each box\n",
    "        @param root : dataset directory\n",
    "        @param save_dir : overlaid image directory\n",
    "        '''\n",
    "        image_path = os.path.join(root, self.file_name)\n",
    "        image = cv2.imread(image_path)\n",
    "        for box, class_id in self.bboxes:\n",
    "            start_point = (int(box[0]), int(box[1]))\n",
    "            end_point = (int(box[0])+int(box[2]), int(box[1])+int(box[3]))\n",
    "            image = cv2.rectangle(image, start_point , end_point, COLOR_CLASS[class_id], 1)\n",
    "        if not os.path.exists(save_dir):\n",
    "            os.makedirs(save_dir)\n",
    "        img_save_path = os.path.join(save_dir, self.file_name)\n",
    "        # print(image)\n",
    "        cv2.imwrite(img_save_path, image)\n",
    "    \n",
    "    def __str__(self):\n",
    "        report_str = \"image_name: {}, image_id: {}, bboxes with class: {}\".format(self.file_name, self.image_id, self.bboxes)\n",
    "        return report_str"
   ]
  },
  {
   "cell_type": "markdown",
   "metadata": {
    "id": "-Ozw-n2A2U_H"
   },
   "source": [
    "# Bring all annotations into list of image annotation class"
   ]
  },
  {
   "cell_type": "code",
   "execution_count": 5,
   "metadata": {
    "executionInfo": {
     "elapsed": 979,
     "status": "ok",
     "timestamp": 1604508444846,
     "user": {
      "displayName": "Nguyễn Sơn",
      "photoUrl": "",
      "userId": "07355162073497715480"
     },
     "user_tz": -420
    },
    "id": "EpPhorWn2PkC"
   },
   "outputs": [],
   "source": [
    "all_images = [] # list of img annotation class\n",
    "for i,images_info in enumerate(data[\"images\"]):\n",
    "    img_id = images_info['id']\n",
    "    h, w , file_name = images_info['height'], images_info['width'], images_info['file_name']\n",
    "    bboxes = []\n",
    "    for anno_data in annos[img_id]:\n",
    "        bbox = anno_data['bbox']\n",
    "        category_id = anno_data[\"category_id\"]\n",
    "        bboxes.append((bbox, category_id))\n",
    "    all_images.append(ImageAnnotation(img_id, h, w, file_name, bboxes))"
   ]
  },
  {
   "cell_type": "code",
   "execution_count": 6,
   "metadata": {
    "executionInfo": {
     "elapsed": 1146,
     "status": "ok",
     "timestamp": 1604508446199,
     "user": {
      "displayName": "Nguyễn Sơn",
      "photoUrl": "",
      "userId": "07355162073497715480"
     },
     "user_tz": -420
    },
    "id": "5-Wq8At12hLY"
   },
   "outputs": [],
   "source": [
    "number_boxes = [len(img_anno.getBBoxesWithoutClassId()) for img_anno in  all_images]\n",
    "boxes = [img_anno.getBBoxesWithoutClassId() for img_anno in  all_images]\n",
    "boxesWithCat = [img_anno.getBboxes() for img_anno in  all_images]"
   ]
  },
  {
   "cell_type": "code",
   "execution_count": 7,
   "metadata": {
    "colab": {
     "base_uri": "https://localhost:8080/"
    },
    "executionInfo": {
     "elapsed": 915,
     "status": "ok",
     "timestamp": 1604508446201,
     "user": {
      "displayName": "Nguyễn Sơn",
      "photoUrl": "",
      "userId": "07355162073497715480"
     },
     "user_tz": -420
    },
    "id": "uxkoD93V2nl5",
    "outputId": "e6bdc7ee-9292-4e64-cf49-fe1cc80b129f"
   },
   "outputs": [
    {
     "data": {
      "text/plain": [
       "20"
      ]
     },
     "execution_count": 7,
     "metadata": {},
     "output_type": "execute_result"
    }
   ],
   "source": [
    "max_box = max(number_boxes)\n",
    "index = number_boxes.index(max_box)\n",
    "max_bboxes = boxesWithCat[index]\n",
    "max_box"
   ]
  },
  {
   "cell_type": "code",
   "execution_count": 8,
   "metadata": {
    "colab": {
     "base_uri": "https://localhost:8080/"
    },
    "executionInfo": {
     "elapsed": 1045,
     "status": "ok",
     "timestamp": 1604508448158,
     "user": {
      "displayName": "Nguyễn Sơn",
      "photoUrl": "",
      "userId": "07355162073497715480"
     },
     "user_tz": -420
    },
    "id": "1DMXIwwW2q0d",
    "outputId": "34c70f69-4f3d-4d13-cf01-c8516263897a"
   },
   "outputs": [
    {
     "name": "stdout",
     "output_type": "stream",
     "text": [
      "{2: [[983, 314, 992, 323], [844, 230, 860, 246], [844, 230, 859, 245], [984, 316, 991, 323], [844, 230, 860, 246], [983, 315, 991, 322], [844, 230, 860, 246], [983, 314, 991, 323]], 4: [[809, 231, 824, 247], [828, 231, 841, 244], [809, 232, 823, 246], [829, 233, 840, 245], [828, 232, 841, 244], [809, 231, 824, 247], [809, 231, 824, 246], [828, 232, 840, 244]], 5: [[846, 248, 858, 261], [846, 249, 857, 260], [846, 248, 858, 260], [846, 248, 859, 260]]}\n",
      "0.9\n",
      "0.0\n",
      "0.0\n",
      "0.7111111111111111\n",
      "0.0\n",
      "0.8\n",
      "0.0\n"
     ]
    }
   ],
   "source": [
    "## group bounding box by class id\n",
    "\n",
    "\n",
    "box_dict = {class_id[1]: [] for class_id in max_bboxes}\n",
    "for data_box in max_bboxes:\n",
    "    box_dict[data_box[1]].append(cocoToAbsoluteBox(data_box[0]))\n",
    "print(box_dict)\n",
    "\n",
    "for key in box_dict.keys():    \n",
    "    sorted(box_dict[key], key=lambda x: (x[2] - x[0]) * (x[3] - x[1]))\n",
    "\n",
    "bboxes_test = box_dict[2]\n",
    "for box_ in bboxes_test[:-1]:\n",
    "    print(bb_intersection_over_union(bboxes_test[-1], box_))"
   ]
  },
  {
   "cell_type": "markdown",
   "metadata": {
    "id": "rLrBRsqQ5xxT"
   },
   "source": [
    "# Delete duplicate bbox with same label"
   ]
  },
  {
   "cell_type": "code",
   "execution_count": 9,
   "metadata": {
    "colab": {
     "base_uri": "https://localhost:8080/"
    },
    "executionInfo": {
     "elapsed": 969,
     "status": "ok",
     "timestamp": 1604508452252,
     "user": {
      "displayName": "Nguyễn Sơn",
      "photoUrl": "",
      "userId": "07355162073497715480"
     },
     "user_tz": -420
    },
    "id": "0so11i3C639n",
    "outputId": "a043fc91-8548-4bec-fbd9-9cb9f6711b4f"
   },
   "outputs": [
    {
     "data": {
      "text/plain": [
       "11000"
      ]
     },
     "execution_count": 9,
     "metadata": {},
     "output_type": "execute_result"
    }
   ],
   "source": [
    "all_images = [] # list of img annotation class\n",
    "for i,images_info in enumerate(data[\"images\"]):\n",
    "    img_id = images_info['id']\n",
    "    h, w , file_name = images_info['height'], images_info['width'], images_info['file_name']\n",
    "    bboxes = []\n",
    "    for anno_data in annos[img_id]:\n",
    "        bbox = anno_data['bbox']\n",
    "        category_id = anno_data[\"category_id\"]\n",
    "        bboxes.append((bbox, category_id))\n",
    "    all_images.append(ImageAnnotation(img_id, h, w, file_name, bboxes))\n",
    "count_boxes = sum([len(img_anno.getBBoxesWithoutClassId()) for img_anno in  all_images])\n",
    "count_boxes"
   ]
  },
  {
   "cell_type": "code",
   "execution_count": 10,
   "metadata": {
    "executionInfo": {
     "elapsed": 830,
     "status": "ok",
     "timestamp": 1604508470641,
     "user": {
      "displayName": "Nguyễn Sơn",
      "photoUrl": "",
      "userId": "07355162073497715480"
     },
     "user_tz": -420
    },
    "id": "EmAkPUQx54MH"
   },
   "outputs": [],
   "source": [
    "def filter_bbox(list_bbox):\n",
    "    black_list = []\n",
    "    for i, bbox_class_id in enumerate(list_bbox):\n",
    "        bbox, class_id = bbox_class_id\n",
    "        for j in range(i+1, len(list_bbox)):\n",
    "            bbox2, class_id_2 = list_bbox[j]\n",
    "            if bb_intersection_over_union(cocoToAbsoluteBox(bbox), cocoToAbsoluteBox(bbox2)) > 0.3 :#and class_id == class_id_2:\n",
    "            # if overlay(cocoToAbsoluteBox(bbox), cocoToAbsoluteBox(bbox2)) > 0.8 and class_id == class_id_2:\n",
    "                black_list.append(j)\n",
    "\n",
    "    black_list = sorted(list(set(black_list)))\n",
    "    # print('black_list {}'.format(black_list))\n",
    "    for i in black_list[::-1]:\n",
    "        list_bbox.pop(i)\n",
    "    return list_bbox\n",
    "\n",
    "def merge_bbox(bbox_1, bbox_2, weight_1, weight_2):\n",
    "    return [int((bbox_1[i]*weight_1 + bbox_2[i]*weight_2)/(weight_1 + weight_2)) for i in range(len(bbox_1))]\n",
    "\n",
    "def filter_bbox2(list_bbox):\n",
    "    black_list = []\n",
    " \n",
    "    for i, bbox_class_id in enumerate(list_bbox):\n",
    "        if i in black_list: continue\n",
    "            \n",
    "        bbox, class_id = bbox_class_id\n",
    "        weight_1 = 1\n",
    "        weight_2 = 1\n",
    "        \n",
    "        for j in range(i+1, len(list_bbox)):\n",
    "            bbox2, class_id_2 = list_bbox[j]\n",
    "            if bb_intersection_over_union(cocoToAbsoluteBox(bbox), cocoToAbsoluteBox(bbox2)) > 0.45 and class_id == class_id_2:\n",
    "\n",
    "                black_list.append(j)\n",
    "                \n",
    "                bbox = merge_bbox(bbox, bbox2, weight_1, weight_2)\n",
    "                weight_1 += 1\n",
    "        \n",
    "        list_bbox[i] = [bbox, class_id]\n",
    "                \n",
    "    black_list = sorted(list(set(black_list)))\n",
    "    # print('black_list {}'.format(black_list))\n",
    "    for i in black_list[::-1]:\n",
    "        list_bbox.pop(i)\n",
    "        \n",
    "    return list_bbox\n",
    "\n",
    "#     return res\n",
    "\n",
    "c = 0\n",
    "for image in all_images:\n",
    "    image.bboxes = filter_bbox2(image.bboxes)\n",
    "#     if len(image.bboxes ) != len(filter_bbox2(image.bboxes)): c+= 1\n",
    "#     print(filter_bbox2(image.bboxes))\n",
    "#     print(filter_bbox(image.bboxes))\n",
    "#     break"
   ]
  },
  {
   "cell_type": "code",
   "execution_count": 11,
   "metadata": {
    "colab": {
     "base_uri": "https://localhost:8080/"
    },
    "executionInfo": {
     "elapsed": 1020,
     "status": "ok",
     "timestamp": 1604508473117,
     "user": {
      "displayName": "Nguyễn Sơn",
      "photoUrl": "",
      "userId": "07355162073497715480"
     },
     "user_tz": -420
    },
    "id": "VUOU_pUY7f-x",
    "outputId": "87dce48e-d36c-45e4-eac4-870735742ed6"
   },
   "outputs": [
    {
     "data": {
      "text/plain": [
       "9078"
      ]
     },
     "execution_count": 11,
     "metadata": {},
     "output_type": "execute_result"
    }
   ],
   "source": [
    "count_boxes = sum([len(img_anno.getBBoxesWithoutClassId()) for img_anno in  all_images])\n",
    "count_boxes"
   ]
  },
  {
   "cell_type": "markdown",
   "metadata": {
    "id": "kRr7wo_K5q4X"
   },
   "source": [
    "# Distribution bbox\n"
   ]
  },
  {
   "cell_type": "code",
   "execution_count": 12,
   "metadata": {
    "executionInfo": {
     "elapsed": 1096,
     "status": "ok",
     "timestamp": 1604512207547,
     "user": {
      "displayName": "Nguyễn Sơn",
      "photoUrl": "",
      "userId": "07355162073497715480"
     },
     "user_tz": -420
    },
    "id": "7VX2K5cI5sCc"
   },
   "outputs": [],
   "source": [
    "list_bbox_ = {'width': [], 'height': [], 'x_min': [], 'x_max': [], 'y_min': [], 'y_max':[]}\n",
    "\n",
    "for img_anno in all_images:\n",
    "    list_bbox_['width'] += [bbox[2] for bbox in img_anno.getBBoxesWithoutClassId()]\n",
    "    list_bbox_['height'] += [bbox[3] for bbox in img_anno.getBBoxesWithoutClassId()]\n",
    "\n",
    "for img_anno in all_images:\n",
    "    list_bbox_['x_min'] += [bbox[0] for bbox in img_anno.getBBoxesWithoutClassId()]\n",
    "    list_bbox_['x_max'] += [bbox[0] + bbox[2] for bbox in img_anno.getBBoxesWithoutClassId()]\n",
    "\n",
    "for img_anno in all_images:\n",
    "    list_bbox_['y_min'] += [bbox[1] for bbox in img_anno.getBBoxesWithoutClassId()]\n",
    "    list_bbox_['y_max'] += [bbox[1] + bbox[3] for bbox in img_anno.getBBoxesWithoutClassId()]"
   ]
  },
  {
   "cell_type": "code",
   "execution_count": 20,
   "metadata": {
    "colab": {
     "base_uri": "https://localhost:8080/"
    },
    "executionInfo": {
     "elapsed": 734,
     "status": "ok",
     "timestamp": 1604512207548,
     "user": {
      "displayName": "Nguyễn Sơn",
      "photoUrl": "",
      "userId": "07355162073497715480"
     },
     "user_tz": -420
    },
    "id": "cQ9CekRvBKKB",
    "outputId": "3c1ef511-16c8-4def-acbf-a851d8f092fd"
   },
   "outputs": [
    {
     "name": "stdout",
     "output_type": "stream",
     "text": [
      "274\n",
      "238\n",
      "2\n",
      "2\n"
     ]
    }
   ],
   "source": [
    "print(max(list_bbox_['width'] ))\n",
    "print(max(list_bbox_['height']))\n",
    "print(min(list_bbox_['width'] ))\n",
    "print(min(list_bbox_['height']))"
   ]
  },
  {
   "cell_type": "code",
   "execution_count": 21,
   "metadata": {
    "executionInfo": {
     "elapsed": 804,
     "status": "ok",
     "timestamp": 1604512307605,
     "user": {
      "displayName": "Nguyễn Sơn",
      "photoUrl": "",
      "userId": "07355162073497715480"
     },
     "user_tz": -420
    },
    "id": "9VGqNaQjBKaR"
   },
   "outputs": [],
   "source": [
    "# matplotlib \n",
    "def plot(key):\n",
    "    fig = plt.figure(figsize=(15,10))\n",
    "\n",
    "    plt.hist(list_bbox_[key], color = 'blue', edgecolor = 'black',\n",
    "            bins = int(len(set(list_bbox_[key]))))\n",
    "\n",
    "    # Add labels\n",
    "    plt.title('Histogram of {}'.format(key))\n",
    "    plt.xlabel(key)\n",
    "    plt.ylabel('count')\n",
    "#     plt.savefig(\"d/{}_distribution.png\".format(key))"
   ]
  },
  {
   "cell_type": "code",
   "execution_count": 22,
   "metadata": {
    "colab": {
     "base_uri": "https://localhost:8080/",
     "height": 1000
    },
    "collapsed": true,
    "executionInfo": {
     "elapsed": 14079,
     "status": "ok",
     "timestamp": 1604512336899,
     "user": {
      "displayName": "Nguyễn Sơn",
      "photoUrl": "",
      "userId": "07355162073497715480"
     },
     "user_tz": -420
    },
    "id": "agbq-xI0YuIB",
    "jupyter": {
     "outputs_hidden": true
    },
    "outputId": "c84b813e-77d5-4089-9333-061ee6bc0b03"
   },
   "outputs": [
    {
     "data": {
      "image/png": "[encoded data removed]",
      "text/plain": [
       "<Figure size 1080x720 with 1 Axes>"
      ]
     },
     "metadata": {
      "needs_background": "light"
     },
     "output_type": "display_data"
    },
    {
     "data": {
      "image/png": "[encoded data removed]",
      "text/plain": [
       "<Figure size 1080x720 with 1 Axes>"
      ]
     },
     "metadata": {
      "needs_background": "light"
     },
     "output_type": "display_data"
    },
    {
     "data": {
      "image/png": "[encoded data removed]",
      "text/plain": [
       "<Figure size 1080x720 with 1 Axes>"
      ]
     },
     "metadata": {
      "needs_background": "light"
     },
     "output_type": "display_data"
    },
    {
     "data": {
      "image/png": "[encoded data removed]",
      "text/plain": [
       "<Figure size 1080x720 with 1 Axes>"
      ]
     },
     "metadata": {
      "needs_background": "light"
     },
     "output_type": "display_data"
    },
    {
     "data": {
      "image/png": "[encoded data removed]",
      "text/plain": [
       "<Figure size 1080x720 with 1 Axes>"
      ]
     },
     "metadata": {
      "needs_background": "light"
     },
     "output_type": "display_data"
    },
    {
     "data": {
      "image/png": "[encoded data removed]",
      "text/plain": [
       "<Figure size 1080x720 with 1 Axes>"
      ]
     },
     "metadata": {
      "needs_background": "light"
     },
     "output_type": "display_data"
    }
   ],
   "source": [
    "for key in list_bbox_:\n",
    "    plot(key)"
   ]
  },
  {
   "cell_type": "markdown",
   "metadata": {},
   "source": [
    "# Create json "
   ]
  },
  {
   "cell_type": "code",
   "execution_count": 12,
   "metadata": {},
   "outputs": [],
   "source": [
    "def create_json(data, split_images, list_id = [], json_dir = 'train_traffic_sign_dataset_split_image.json'):\n",
    "\n",
    "    new_json = {'annotations': [], 'images': []}\n",
    "    new_json['info'] = data['info']\n",
    "    new_json['categories'] = data['categories']\n",
    "\n",
    "    anno_id = 0\n",
    "    for i, image_info in enumerate(split_images):\n",
    "#         print(image_info.image_id)\n",
    "        if list_id:\n",
    "            if image_info.image_id in list_id:\n",
    "#                 print(i)\n",
    "                new_json['images'].append({'file_name': image_info.file_name,\n",
    "                                          'height': image_info.h,\n",
    "                                          'width': image_info.w,\n",
    "                                          'id': image_info.image_id})\n",
    "\n",
    "                for bbox_id in image_info.getBboxes():\n",
    "                    bbox , category_id = bbox_id[0], bbox_id[1]\n",
    "\n",
    "                    new_json['annotations'].append({'area': bbox[2]*bbox[3],\n",
    "                                                   \"iscrowd\": 0,\n",
    "                                                   'image_id': image_info.image_id,\n",
    "                                                   'bbox': bbox,\n",
    "                                                   'category_id': category_id,\n",
    "                                                   'id': anno_id})\n",
    "                    anno_id += 1\n",
    "        else:\n",
    "            new_json['images'].append({'file_name': image_info.file_name,\n",
    "                                          'height': image_info.h,\n",
    "                                          'width': image_info.w,\n",
    "                                          'id': image_info.image_id})\n",
    "\n",
    "            for bbox_id in image_info.getBboxes():\n",
    "                bbox , category_id = bbox_id[0], bbox_id[1]\n",
    "\n",
    "                new_json['annotations'].append({'area': bbox[2]*bbox[3],\n",
    "                                               \"iscrowd\": 0,\n",
    "                                               'image_id': image_info.image_id,\n",
    "                                               'bbox': bbox,\n",
    "                                               'category_id': category_id,\n",
    "                                               'id': anno_id})\n",
    "                anno_id += 1\n",
    "                \n",
    "    with open(json_dir, 'w') as outfile:\n",
    "        json.dump(new_json, outfile)\n",
    "    return new_json"
   ]
  },
  {
   "cell_type": "code",
   "execution_count": 24,
   "metadata": {},
   "outputs": [],
   "source": [
    "# _ = create_json(data, all_images, json_dir = 'train_traffic_sign_dataset_split_image.json')"
   ]
  },
  {
   "cell_type": "markdown",
   "metadata": {},
   "source": [
    "# Split train val k_fold = 5"
   ]
  },
  {
   "cell_type": "code",
   "execution_count": 47,
   "metadata": {},
   "outputs": [],
   "source": [
    "all_class = [(img_anno.image_id, img_anno.getClassId()) for img_anno in  all_images]"
   ]
  },
  {
   "cell_type": "code",
   "execution_count": 48,
   "metadata": {},
   "outputs": [
    {
     "data": {
      "text/plain": [
       "7"
      ]
     },
     "execution_count": 48,
     "metadata": {},
     "output_type": "execute_result"
    }
   ],
   "source": [
    "max_len = 0\n",
    "list_len = []\n",
    "list_len_set = []\n",
    "for list_class_id in all_class:\n",
    "    max_len = max(max_len, len(set(list_class_id[1])))\n",
    "    list_len.append(len(list_class_id[1]))\n",
    "    list_len_set.append(len(set(list_class_id[1])))\n",
    "max_len"
   ]
  },
  {
   "cell_type": "code",
   "execution_count": 22,
   "metadata": {
    "collapsed": true,
    "jupyter": {
     "outputs_hidden": true
    }
   },
   "outputs": [
    {
     "data": {
      "image/png": "[encoded data removed]",
      "text/plain": [
       "<Figure size 1080x720 with 1 Axes>"
      ]
     },
     "metadata": {
      "needs_background": "light"
     },
     "output_type": "display_data"
    }
   ],
   "source": [
    "# fig = plt.figure(figsize=(15,10))\n",
    "\n",
    "# plt.hist(list_len, color = 'blue', edgecolor = 'black',\n",
    "#         bins = 20)\n",
    "\n",
    "# # Add labels\n",
    "# plt.title('Histogram of {}'.format('list_len'))\n",
    "# plt.xlabel('list_len')\n",
    "# plt.ylabel('count')\n",
    "# plt.savefig(\"{}_distribution.png\".format('list_len'))\n",
    "\n",
    "# fig = plt.figure(figsize=(15,10))\n",
    "\n",
    "# plt.hist(list_len_set, color = 'blue', edgecolor = 'black',\n",
    "#         bins = 100)\n",
    "\n",
    "# # Add labels\n",
    "# plt.title('Histogram of {}'.format('list_len_set'))\n",
    "# plt.xlabel('list_len_set')\n",
    "# plt.ylabel('count')\n",
    "# plt.savefig(\"{}_distribution.png\".format('list_len_set'))"
   ]
  },
  {
   "cell_type": "code",
   "execution_count": 60,
   "metadata": {},
   "outputs": [
    {
     "name": "stdout",
     "output_type": "stream",
     "text": [
      "92 92\n"
     ]
    }
   ],
   "source": [
    "x = {}\n",
    "y = {}\n",
    "for i in range(len(all_class)):\n",
    "    class_id  = '_'.join([str(j) for j in sorted(list(set(all_class[i][1])))])\n",
    "    if class_id not in x:\n",
    "        x[class_id] = [all_class[i][0]]\n",
    "        y[class_id] = 1\n",
    "    else:\n",
    "        x[class_id].append(all_class[i][0])\n",
    "        y[class_id] += 1\n",
    "print(len(x), len(y))"
   ]
  },
  {
   "cell_type": "code",
   "execution_count": 61,
   "metadata": {},
   "outputs": [],
   "source": [
    "x['multi'] = []\n",
    "y['multi'] = 0"
   ]
  },
  {
   "cell_type": "code",
   "execution_count": 62,
   "metadata": {},
   "outputs": [
    {
     "name": "stdout",
     "output_type": "stream",
     "text": [
      "58 58\n"
     ]
    }
   ],
   "source": [
    "keys = list(x.keys())\n",
    "for key in keys:\n",
    "    if y[key]  < 5: \n",
    "        x['multi'] += x[key]\n",
    "        y['multi'] += y[key]\n",
    "        del x[key]\n",
    "        del y[key]\n",
    "print(len(x), len(y))"
   ]
  },
  {
   "cell_type": "code",
   "execution_count": 63,
   "metadata": {},
   "outputs": [],
   "source": [
    "X = []\n",
    "Y = []\n",
    "for key in x.keys():\n",
    "    X += x[key]\n",
    "    Y += [key]*y[key]\n",
    "X = np.array(X)\n",
    "Y = np.array(Y)"
   ]
  },
  {
   "cell_type": "code",
   "execution_count": 64,
   "metadata": {},
   "outputs": [],
   "source": [
    "# import numpy as np\n",
    "# from sklearn.model_selection import StratifiedKFold\n",
    "# skf = StratifiedKFold(n_splits=5)\n",
    "# skf.get_n_splits(X, Y)\n",
    "\n",
    "# fold = 1\n",
    "# for train_index, val_index in skf.split(X, Y):\n",
    "    \n",
    "#     X_train_fold = list(X[train_index])\n",
    "#     X_val_fold = list(X[val_index])\n",
    "# #     print(X_fold)\n",
    "#     create_json(data, all_images, list_id = list(X_train_fold), json_dir = 'za_traffic_2020/annotations/original_new/train_fold_{}.json'.format(fold))\n",
    "#     create_json(data, all_images, list_id = list(X_val_fold), json_dir = 'za_traffic_2020/annotations/original_new/val_fold_{}.json'.format(fold))\n",
    "#     fold += 1"
   ]
  },
  {
   "cell_type": "markdown",
   "metadata": {
    "id": "zVi2yy84Oubf"
   },
   "source": [
    "# Split image"
   ]
  },
  {
   "cell_type": "code",
   "execution_count": 13,
   "metadata": {
    "executionInfo": {
     "elapsed": 1057,
     "status": "ok",
     "timestamp": 1604510521315,
     "user": {
      "displayName": "Nguyễn Sơn",
      "photoUrl": "",
      "userId": "07355162073497715480"
     },
     "user_tz": -420
    },
    "id": "Br2E0_bqPRK0"
   },
   "outputs": [
    {
     "data": {
      "text/plain": [
       "(626, 1622, 3)"
      ]
     },
     "execution_count": 13,
     "metadata": {},
     "output_type": "execute_result"
    }
   ],
   "source": [
    "dir = 'za_traffic_2020/traffic_train/images/'\n",
    "x = cv2.imread(dir + all_images[0].file_name)\n",
    "x.shape"
   ]
  },
  {
   "cell_type": "code",
   "execution_count": 14,
   "metadata": {
    "id": "jZv8VgdjRxnO"
   },
   "outputs": [],
   "source": [
    "import math\n",
    "def create_new_bbox(split_bbox, bbox):\n",
    "    xmin = bbox[0]\n",
    "    xmax = bbox[0] + bbox[2]\n",
    "    ymin = bbox[1]\n",
    "    ymax = bbox[1] + bbox[3]\n",
    "\n",
    "    if xmin < split_bbox[0]:\n",
    "        xmin = split_bbox[0]\n",
    "    if xmax > split_bbox[2]:\n",
    "        xmax = split_bbox[2]\n",
    "    if ymin < split_bbox[1]:\n",
    "        ymin = split_bbox[1]\n",
    "    if ymax > split_bbox[3]:\n",
    "        ymax = split_bbox[3]\n",
    "    \n",
    "    return [xmin, ymin, xmax - xmin, ymax - ymin]\n",
    "\n",
    "def check_new_bbox(new_bbox, old_bbox):\n",
    "    s_new = new_bbox[2] * new_bbox[3]\n",
    "\n",
    "    s_old = old_bbox[2] * old_bbox[3]\n",
    "    return s_new/s_old\n",
    "    \n",
    "def create_split_image(data,\n",
    "                       stride = (222, 114), \n",
    "                       root_dir = 'za_traffic_2020/traffic_train/images_split',\n",
    "                       save_image = False,\n",
    "                       h = 512, w = 512,\n",
    "                      ):\n",
    "    count = 0\n",
    "    all_split_images = []\n",
    "    \n",
    "    image_ids = [image['id'] for image in data['images']]\n",
    "    annos = {img_id:[] for img_id in image_ids}\n",
    "    for anno in data['annotations']:\n",
    "        annos[anno[\"image_id\"]].append(anno)\n",
    "\n",
    "    for i, images_info in enumerate(data[\"images\"]):\n",
    "        if save_image:\n",
    "            original_image = cv2.imread('za_traffic_2020/traffic_train/images/{}'.format(images_info['file_name']))\n",
    "#         print(math.ceil((1622-w)/stride[0]) + 1)\n",
    "#         print(math.ceil((626-h)/stride[1]) + 1)\n",
    "        for i in range(math.ceil((1622-w)/stride[0]) + 1):\n",
    "            for j in range(math.ceil((626-h)/stride[1]) + 1):\n",
    "\n",
    "                img_id = images_info['id']\n",
    "                split_img_id = '{}_{}_{}'.format(images_info['id'], i, j)                    \n",
    "                split_img_file_name = '{}.png'.format(split_img_id)\n",
    "                \n",
    "                if i*stride[0] + w < 1622:\n",
    "                    xmin = i*stride[0]\n",
    "                    xmax = i*stride[0] + w\n",
    "                else:\n",
    "                    xmin = 1622 - w\n",
    "                    xmax = 1622\n",
    "                if j*stride[1]  + h< 626:\n",
    "                    ymin = j*stride[1]\n",
    "                    ymax = j*stride[1] + h\n",
    "                else:\n",
    "                    ymin = 626 - h\n",
    "                    ymax = 626\n",
    "                    \n",
    "                split_bbox = [xmin, ymin, xmax, ymax]\n",
    "#                 print(split_bbox)\n",
    "                if save_image:\n",
    "                    split_image = original_image[split_bbox[1]:split_bbox[3], split_bbox[0]:split_bbox[2]]\n",
    "\n",
    "                bboxes = []\n",
    "                for anno_data in annos[img_id]:\n",
    "                    if bb_intersection_over_union(split_bbox, cocoToAbsoluteBox(anno_data['bbox'])) > 0:\n",
    "                        bbox = create_new_bbox(split_bbox, anno_data['bbox'])\n",
    "\n",
    "                        bbox[0] -= split_bbox[0]\n",
    "                        bbox[1] -= split_bbox[1]\n",
    "\n",
    "    #                     start_point = (bbox[0], bbox[1])\n",
    "    #                     end_point = (bbox[2] + bbox[0], bbox[3] + bbox[1])\n",
    "    #                     split_image = cv2.rectangle(split_image, start_point , end_point, (255, 255, 255), 2)\n",
    "\n",
    "#                         if check_new_bbox(bbox,  anno_data['bbox']) < 0.25: count += 1\n",
    "                        category_id = anno_data[\"category_id\"]\n",
    "                        bboxes.append((bbox, category_id))\n",
    "\n",
    "                all_split_images.append(ImageAnnotation(split_img_id , h, w, split_img_file_name, bboxes))\n",
    "                if len(bboxes) > 0:\n",
    "                    count += 1\n",
    "                if save_image:\n",
    "                    cv2.imwrite('{}/{}'.format(root_dir, split_img_file_name), split_image)\n",
    "#         break\n",
    "    print(count)\n",
    "    return all_split_images\n"
   ]
  },
  {
   "cell_type": "markdown",
   "metadata": {},
   "source": [
    "## Save all split image"
   ]
  },
  {
   "cell_type": "code",
   "execution_count": 32,
   "metadata": {},
   "outputs": [
    {
     "name": "stdout",
     "output_type": "stream",
     "text": [
      "91130\n"
     ]
    }
   ],
   "source": [
    "# with open('za_traffic_2020/traffic_train/train_traffic_sign_dataset_merge_overlay_box.json') as json_file:\n",
    "#     data_fold = json.load(json_file)\n",
    "# split_images_fold = create_split_image(data_fold, stride = (80, 80), h= 320, w= 320, \n",
    "#                                       save_image = True, root_dir = 'za_traffic_2020/traffic_train/images_split_320_stride_80')"
   ]
  },
  {
   "cell_type": "code",
   "execution_count": 29,
   "metadata": {},
   "outputs": [
    {
     "data": {
      "text/plain": [
       "405000"
      ]
     },
     "execution_count": 29,
     "metadata": {},
     "output_type": "execute_result"
    }
   ],
   "source": [
    "len(split_images_fold)"
   ]
  },
  {
   "cell_type": "markdown",
   "metadata": {},
   "source": [
    "## Create train split image json"
   ]
  },
  {
   "cell_type": "code",
   "execution_count": 36,
   "metadata": {},
   "outputs": [
    {
     "name": "stdout",
     "output_type": "stream",
     "text": [
      "72846\n"
     ]
    }
   ],
   "source": [
    "with open('za_traffic_2020/annotations/original_new/train_fold_1.json') as json_file:\n",
    "    data_fold = json.load(json_file)\n",
    "\n",
    "split_images_fold = create_split_image(data_fold, stride = (80, 80), h= 320, w= 320, \n",
    "                                      save_image = False)\n",
    "#265787\n",
    "#835813\n",
    "new_json = create_json(data_fold, \n",
    "                       split_images_fold,\n",
    "                       json_dir = 'za_traffic_2020/annotations/split_320_stride_80/train_fold_1.json')\n",
    "\n",
    "\n",
    "# # test\n",
    "for i in range(90):\n",
    "    split_images_fold[i].bboxesOnImage('za_traffic_2020/traffic_train/images_split_320_stride_80', 'za_traffic_2020/annotations/test')"
   ]
  },
  {
   "cell_type": "code",
   "execution_count": 37,
   "metadata": {},
   "outputs": [
    {
     "data": {
      "text/plain": [
       "324000"
      ]
     },
     "execution_count": 37,
     "metadata": {},
     "output_type": "execute_result"
    }
   ],
   "source": [
    "len(split_images_fold)"
   ]
  },
  {
   "cell_type": "code",
   "execution_count": 40,
   "metadata": {},
   "outputs": [
    {
     "name": "stdout",
     "output_type": "stream",
     "text": [
      "18284\n"
     ]
    }
   ],
   "source": [
    "with open('za_traffic_2020/annotations/original_new/val_fold_1.json') as json_file:\n",
    "    data_fold = json.load(json_file)\n",
    "\n",
    "split_images_fold = create_split_image(data_fold, stride = (80, 80), h= 320, w= 320, \n",
    "                                      save_image = False)\n",
    "# 208828\n",
    "# 66572\n",
    "# new_json = create_json(data_fold, \n",
    "#                        split_images_fold,\n",
    "#                        json_dir = 'za_traffic_2020/annotations/split_320_stride_80/val_fold_1.json')\n",
    "\n",
    "\n",
    "#test\n",
    "for i in range(90):\n",
    "    split_images_fold[i].bboxesOnImage('za_traffic_2020/traffic_train/images_split_320_stride_80', 'za_traffic_2020/annotations/test_val')"
   ]
  },
  {
   "cell_type": "code",
   "execution_count": 39,
   "metadata": {},
   "outputs": [
    {
     "data": {
      "text/plain": [
       "81000"
      ]
     },
     "execution_count": 39,
     "metadata": {},
     "output_type": "execute_result"
    }
   ],
   "source": [
    "len(split_images_fold)"
   ]
  },
  {
   "cell_type": "code",
   "execution_count": 48,
   "metadata": {},
   "outputs": [],
   "source": [
    "import os"
   ]
  },
  {
   "cell_type": "code",
   "execution_count": 54,
   "metadata": {},
   "outputs": [],
   "source": [
    "x = os.listdir('/home/hana/sonnh/zalo-traffic-sign-detection/za_traffic_2020/traffic_train/images_split_160')"
   ]
  },
  {
   "cell_type": "code",
   "execution_count": 53,
   "metadata": {},
   "outputs": [
    {
     "name": "stdout",
     "output_type": "stream",
     "text": [
      "train\n"
     ]
    }
   ],
   "source": [
    "for name in x:\n",
    "    if '' not in name : print(name)"
   ]
  },
  {
   "cell_type": "code",
   "execution_count": 55,
   "metadata": {},
   "outputs": [
    {
     "data": {
      "text/plain": [
       "2223000"
      ]
     },
     "execution_count": 55,
     "metadata": {},
     "output_type": "execute_result"
    }
   ],
   "source": [
    "len(x)"
   ]
  },
  {
   "cell_type": "markdown",
   "metadata": {},
   "source": [
    "## create train 160 positive : negative 1:5"
   ]
  },
  {
   "cell_type": "code",
   "execution_count": 20,
   "metadata": {},
   "outputs": [
    {
     "name": "stdout",
     "output_type": "stream",
     "text": [
      "28766\n"
     ]
    }
   ],
   "source": [
    "with open('za_traffic_2020/annotations/original_new/val_fold_3.json') as json_file:\n",
    "    data_fold = json.load(json_file)\n",
    "\n",
    "split_images_fold = create_split_image(data_fold, stride = (40, 40), h= 160, w= 160, \n",
    "                                      save_image = False)\n"
   ]
  },
  {
   "cell_type": "code",
   "execution_count": 21,
   "metadata": {},
   "outputs": [
    {
     "name": "stdout",
     "output_type": "stream",
     "text": [
      "positive 28766\n",
      "negative 415834\n",
      "negative after cut random 415834\n"
     ]
    }
   ],
   "source": [
    "c = 0\n",
    "c_ = 0\n",
    "split_images_fold_positive = []\n",
    "split_images_fold_negative = []\n",
    "split_images_fold_negative_after_cut = []\n",
    "\n",
    "for image in split_images_fold:\n",
    "    \n",
    "    if image.bboxes: split_images_fold_positive.append(image)\n",
    "    else:\n",
    "        split_images_fold_negative.append(image)\n",
    "        \n",
    "print('positive {}'.format(len(split_images_fold_positive)))\n",
    "print('negative {}'.format(len(split_images_fold_negative)))\n",
    "        \n",
    "random.seed(42)\n",
    "random.shuffle(split_images_fold_negative)\n",
    "\n",
    "for i in range(len(split_images_fold_positive)*4):\n",
    "    split_images_fold_negative_after_cut.append(split_images_fold_negative[i])\n",
    "\n",
    "split_images_fold_negative_after_cut = split_images_fold_negative\n",
    "print('negative after cut random {}'.format(len(split_images_fold_negative_after_cut)))"
   ]
  },
  {
   "cell_type": "code",
   "execution_count": 22,
   "metadata": {},
   "outputs": [],
   "source": [
    "from shutil import copy\n",
    "\n",
    "for image in split_images_fold_positive:\n",
    "    src = '/home/hana/sonnh/zalo-traffic-sign-detection/za_traffic_2020/traffic_train/images_split_160/{}'.format(image.file_name)\n",
    "    dst = 'za_traffic_2020/yolov5_format_160_cut_500k_fold3/images/val/{}'.format(image.file_name)\n",
    "    copy(src, dst)\n",
    "    \n",
    "    \n",
    "for image in split_images_fold_negative_after_cut:\n",
    "    src = '/home/hana/sonnh/zalo-traffic-sign-detection/za_traffic_2020/traffic_train/images_split_160/{}'.format(image.file_name)\n",
    "    dst = 'za_traffic_2020/yolov5_format_160_cut_500k_fold3/images/val/{}'.format(image.file_name)\n",
    "    copy(src, dst)\n"
   ]
  },
  {
   "cell_type": "code",
   "execution_count": 23,
   "metadata": {},
   "outputs": [
    {
     "data": {
      "text/plain": [
       "444600"
      ]
     },
     "execution_count": 23,
     "metadata": {},
     "output_type": "execute_result"
    }
   ],
   "source": [
    "split_images_fold = split_images_fold_positive + split_images_fold_negative_after_cut\n",
    "len(split_images_fold)"
   ]
  },
  {
   "cell_type": "code",
   "execution_count": 24,
   "metadata": {},
   "outputs": [],
   "source": [
    "new_json = create_json(data_fold, \n",
    "                       split_images_fold,\n",
    "                       json_dir = 'za_traffic_2020/annotations/split_160_cut_500k/val_fold_3.json')"
   ]
  },
  {
   "cell_type": "code",
   "execution_count": null,
   "metadata": {},
   "outputs": [],
   "source": []
  },
  {
   "cell_type": "code",
   "execution_count": 39,
   "metadata": {},
   "outputs": [
    {
     "data": {
      "text/plain": [
       "[2, 4, 5, 3, 7, 1, 6]"
      ]
     },
     "execution_count": 39,
     "metadata": {},
     "output_type": "execute_result"
    }
   ],
   "source": [
    "x = [1,2,3,4,5,6,7]\n",
    "random.seed(42)\n",
    "random.shuffle(x)\n",
    "x"
   ]
  },
  {
   "cell_type": "code",
   "execution_count": 48,
   "metadata": {},
   "outputs": [],
   "source": [
    "x = os.listdir('za_traffic_2020/yolov5_format_160_cut_500k/images/train')"
   ]
  },
  {
   "cell_type": "code",
   "execution_count": 51,
   "metadata": {},
   "outputs": [],
   "source": [
    "image = cv2.imread('za_traffic_2020/yolov5_format_160_cut_500k/images/train/{}'.format(x[2]))"
   ]
  },
  {
   "cell_type": "code",
   "execution_count": 52,
   "metadata": {},
   "outputs": [
    {
     "data": {
      "text/plain": [
       "(160, 160, 3)"
      ]
     },
     "execution_count": 52,
     "metadata": {},
     "output_type": "execute_result"
    }
   ],
   "source": [
    "image.shape"
   ]
  },
  {
   "cell_type": "markdown",
   "metadata": {},
   "source": [
    "## create train 320 positive : negative 1:5"
   ]
  },
  {
   "cell_type": "code",
   "execution_count": null,
   "metadata": {},
   "outputs": [],
   "source": []
  },
  {
   "cell_type": "code",
   "execution_count": null,
   "metadata": {},
   "outputs": [],
   "source": []
  }
 ],
 "metadata": {
  "colab": {
   "authorship_tag": "ABX9TyMxItPx43UK+dcXzNSawa02",
   "collapsed_sections": [
    "221f_PW2Soqs",
    "ArC0l7T-FhwK",
    "XmG3e5Q8F3nY",
    "wiw7BJbXFk36",
    "r7I-g7Zu1y2Q",
    "kRr7wo_K5q4X"
   ],
   "name": "Untitled0.ipynb",
   "provenance": [],
   "toc_visible": true
  },
  "kernelspec": {
   "display_name": "Python 3",
   "language": "python",
   "name": "python3"
  },
  "language_info": {
   "codemirror_mode": {
    "name": "ipython",
    "version": 3
   },
   "file_extension": ".py",
   "mimetype": "text/x-python",
   "name": "python",
   "nbconvert_exporter": "python",
   "pygments_lexer": "ipython3",
   "version": "3.6.9"
  },
  "toc-autonumbering": true,
  "toc-showcode": false,
  "toc-showmarkdowntxt": true,
  "toc-showtags": false
 },
 "nbformat": 4,
 "nbformat_minor": 4
}
